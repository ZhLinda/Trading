{
 "cells": [
  {
   "cell_type": "markdown",
   "id": "affiliated-headline",
   "metadata": {},
   "source": [
    "### Only for 2nd month onwards!!"
   ]
  },
  {
   "cell_type": "code",
   "execution_count": 3,
   "id": "boolean-basic",
   "metadata": {},
   "outputs": [
    {
     "name": "stderr",
     "output_type": "stream",
     "text": [
      "D:\\Anaconda\\envs\\mlfinlab\\lib\\site-packages\\IPython\\core\\interactiveshell.py:3155: DtypeWarning: Columns (4) have mixed types.Specify dtype option on import or set low_memory=False.\n",
      "  has_raised = await self.run_ast_nodes(code_ast.body, cell_name,\n"
     ]
    }
   ],
   "source": [
    "import pandas as pd\n",
    "\n",
    "days = [20200428, 20200528, 20200629, 20200730, 20200828]\n",
    "months = ['202003', '202004', '202005', '202006', '202007', '202008']\n",
    "\n",
    "for i in range(len(months)-1):\n",
    "    \n",
    "    df1 = pd.read_csv(f'{months[i+1]}_01_TR.csv', header=None)\n",
    "    df2 = pd.read_csv(f'{months[i+1]}_01_TR_AHT.csv', header=None)\n",
    "    df3 = pd.read_csv(f'{months[i]}_01_TR.csv', header=None)\n",
    "    df4 = pd.read_csv(f'{months[i]}_01_TR_AHT.csv', header=None)\n",
    "\n",
    "    frames = [df1, df2, df3, df4]\n",
    "    df = pd.concat(frames)\n",
    "    del df1, df2, df3, df4, frames\n",
    "    df = df[(df[0] == 'HSI') & (df[1] == 'F') & (df[2] == days[i])][[5,6,7,8]]\n",
    "\n",
    "    df = df.sort_values(by=[5, 6])\n",
    "\n",
    "    df[6] = df[6].map('{:06}'.format)\n",
    "    split = df[6].apply(str).str.extractall(r'(\\d\\d)(\\d\\d)(\\d\\d)')\n",
    "    df[6] = (split[0]+':'+split[1]+':'+split[2]+'+00:00').values\n",
    "\n",
    "    split = df[5].apply(str).str.extractall(r'(\\d{4})(\\d\\d)(\\d\\d)')\n",
    "    df[5] = (split[0]+'-'+split[1]+'-'+split[2]).values\n",
    "\n",
    "    df[4] = df[5]+' '+df[6]\n",
    "    df = df[[4,7,8]]\n",
    "\n",
    "    df.columns = ['time', 'price', 'size']\n",
    "    \n",
    "    df = df.set_index(df['time'])\n",
    "    df.index = pd.to_datetime(df.index) - timedelta(hours = 8) \n",
    "    df['time'] = df.index\n",
    "\n",
    "    df.to_csv(f'{days[i]}hsitick.csv', index=False)\n",
    "    \n",
    "    del df\n"
   ]
  },
  {
   "cell_type": "markdown",
   "id": "regulated-opening",
   "metadata": {},
   "source": [
    "### For 1st month"
   ]
  },
  {
   "cell_type": "code",
   "execution_count": null,
   "id": "auburn-italian",
   "metadata": {},
   "outputs": [],
   "source": [
    "import pandas as pd\n",
    "\n",
    "day = 20190927\n",
    "month = '201909'\n",
    "\n",
    "df1 = pd.read_csv(f'{month}_01_TR.csv', header=None)\n",
    "df2 = pd.read_csv(f'{month}_01_TR_AHT.csv', header=None)\n",
    "\n",
    "frames = [df1, df2]\n",
    "df = pd.concat(frames)\n",
    "del df1, df2, frames\n",
    "df = df[(df[0] == 'HSI') & (df[1] == 'F') & (df[2] == day)][[5,6,7,8]]\n",
    "\n",
    "df = df.sort_values(by=[5, 6])\n",
    "\n",
    "df[6] = df[6].map('{:06}'.format)\n",
    "split = df[6].apply(str).str.extractall(r'(\\d\\d)(\\d\\d)(\\d\\d)')\n",
    "df[6] = (split[0]+':'+split[1]+':'+split[2]+'+00:00').values\n",
    "\n",
    "split = df[5].apply(str).str.extractall(r'(\\d{4})(\\d\\d)(\\d\\d)')\n",
    "df[5] = (split[0]+'-'+split[1]+'-'+split[2]).values\n",
    "\n",
    "df[4] = df[5]+' '+df[6]\n",
    "df = df[[4,7,8]]\n",
    "\n",
    "df.columns = ['time', 'price', 'size']\n",
    "\n",
    "df = df.set_index(df['time'])\n",
    "df.index = pd.to_datetime(df.index) - timedelta(hours = 8) \n",
    "df['time'] = df.index\n",
    "\n",
    "df.to_csv(f'{days[i]}hsitick.csv', index=False)\n",
    "\n",
    "del df\n"
   ]
  }
 ],
 "metadata": {
  "kernelspec": {
   "display_name": "Python 3",
   "language": "python",
   "name": "python3"
  },
  "language_info": {
   "codemirror_mode": {
    "name": "ipython",
    "version": 3
   },
   "file_extension": ".py",
   "mimetype": "text/x-python",
   "name": "python",
   "nbconvert_exporter": "python",
   "pygments_lexer": "ipython3",
   "version": "3.8.5"
  }
 },
 "nbformat": 4,
 "nbformat_minor": 5
}
