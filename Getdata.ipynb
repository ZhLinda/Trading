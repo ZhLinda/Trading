{
 "cells": [
  {
   "cell_type": "markdown",
   "metadata": {},
   "source": [
    "## Connect to IB"
   ]
  },
  {
   "cell_type": "code",
   "execution_count": null,
   "metadata": {},
   "outputs": [],
   "source": [
    "from ib_insync import *\n",
    "util.startLoop()  \n",
    "\n",
    "ib = IB()\n",
    "ib.connect('127.0.0.1', 7497, clientId=1)"
   ]
  },
  {
   "cell_type": "markdown",
   "metadata": {},
   "source": [
    "## Get tick by tick data for first hour of HSI trading"
   ]
  },
  {
   "cell_type": "code",
   "execution_count": null,
   "metadata": {},
   "outputs": [],
   "source": [
    "import pandas as pd\n",
    "import time\n",
    "from datetime import timedelta, datetime\n",
    "\n",
    "DATE = '20201029'\n",
    "\n",
    "def getdatesfuture(date):\n",
    "    # get list of dates \n",
    "    todate = datetime.strptime(date, '%Y%m%d')\n",
    "    delta = timedelta(days=35)    \n",
    "    list_of_dates = []\n",
    "\n",
    "    for i in range(delta.days + 1):\n",
    "        day = todate - delta + timedelta(days=i)\n",
    "        list_of_dates.append(day.strftime(\"%Y%m%d\"))\n",
    "\n",
    "    return list_of_dates\n",
    "\n",
    "contract = Future('HSI', DATE, 'HKFE', includeExpired=True)\n",
    "\n",
    "df = pd.DataFrame()\n",
    "\n",
    "list_of_dates = getdatesfuture(DATE)\n",
    "\n",
    "for i in list_of_dates:\n",
    "    timing = f'{i} 09:15:00'\n",
    "    temp = pd.DataFrame({'time': [0]})\n",
    "    last_bar = ib.reqHistoricalTicks(contract, startDateTime='', endDateTime=f'{i} 16:30:00', numberOfTicks=1, whatToShow='TRADES', useRth=True)\n",
    "    last_bar_temp = util.df(last_bar)[['time','price','size']].iloc[-1]\n",
    "    \n",
    "    while timing != f'{i} 16:30:00' and not last_bar_temp.equals(temp.iloc[-1]):\n",
    "        bars = ib.reqHistoricalTicks(contract, startDateTime= timing, endDateTime='', numberOfTicks=1000, whatToShow='TRADES', useRth=True)\n",
    "        if bars:\n",
    "            timing = (bars[-1].time.replace(tzinfo=None) + timedelta(hours=8, seconds=1)).strftime('%Y%m%d %H:%M:%S')\n",
    "            temp = util.df(bars)[['time','price','size']]\n",
    "\n",
    "            df = pd.concat([df, temp])\n",
    "\n",
    "            print(timing)\n",
    "            \n",
    "        else:\n",
    "            break"
   ]
  },
  {
   "cell_type": "markdown",
   "metadata": {},
   "source": [
    "## Save as csv"
   ]
  },
  {
   "cell_type": "code",
   "execution_count": 52,
   "metadata": {},
   "outputs": [],
   "source": [
    "df.to_csv('9tick.csv', index=False)"
   ]
  },
  {
   "cell_type": "markdown",
   "metadata": {},
   "source": [
    "## Get 6 months HSI 5sec bar for first 1 hr"
   ]
  },
  {
   "cell_type": "code",
   "execution_count": null,
   "metadata": {},
   "outputs": [],
   "source": [
    "def getdatesfuture(date):\n",
    "    # get list of dates \n",
    "    from datetime import timedelta, datetime\n",
    "    todate = datetime.strptime(date, '%Y%m%d')\n",
    "    delta = timedelta(days=35)    \n",
    "    list_of_dates = []\n",
    "\n",
    "    for i in range(delta.days + 1):\n",
    "        day = todate - delta + timedelta(days=i)\n",
    "        list_of_dates.append(day.strftime(\"%Y%m%d\"))\n",
    "\n",
    "    return list_of_dates\n",
    "\n",
    "\n",
    "def getdatafuture(date):\n",
    "    # get traded price of future\n",
    "    import pandas as pd\n",
    "\n",
    "    contract = Future('HSI', date, 'HKFE', includeExpired=True)\n",
    "\n",
    "    df = pd.DataFrame()\n",
    "\n",
    "    list_of_dates = getdatesfuture(date)\n",
    "\n",
    "    for i in list_of_dates:\n",
    "        bars = ib.reqHistoricalData(contract, endDateTime=f'{i} 09:45:00', durationStr='1800 S', barSizeSetting='1 secs', whatToShow='BID', useRTH=True)\n",
    "        dfbid = util.df(bars)\n",
    "\n",
    "        bars = ib.reqHistoricalData(contract, endDateTime=f'{i} 09:45:00', durationStr='1800 S', barSizeSetting='1 secs', whatToShow='ASK', useRTH=True)\n",
    "        dfask = util.df(bars)\n",
    "\n",
    "        merged = pd.merge(dfbid,dfask, left_index=True, right_index=True,suffixes=('bid','ask'))\n",
    "        temp = merged[['datebid', 'openbid', 'highbid', 'lowbid', 'openask', 'highask', 'lowask']]\n",
    "\n",
    "        bars = ib.reqHistoricalData(contract, endDateTime=f'{i} 09:45:00', durationStr='1800 S', barSizeSetting='1 secs', whatToShow='TRADES', useRTH=True)\n",
    "        dftrades = util.df(bars)\n",
    "\n",
    "        merged = pd.merge(temp,dftrades, left_index=True, right_index=True,suffixes=('','trades'))\n",
    "        temp = merged[['datebid', 'openbid', 'highbid', 'lowbid', 'openask', 'highask', 'lowask', 'open', 'high', 'low', 'close', 'volume', 'average', 'barCount']]\n",
    "\n",
    "        df = pd.concat([df, temp])\n",
    "        print(i)\n",
    "        \n",
    "        time.sleep(30)  \n",
    "        \n",
    "    return(df)\n",
    "\n",
    "#Get recent 2 years data\n",
    "import pandas as pd\n",
    "import time\n",
    "df = pd.DataFrame()\n",
    "\n",
    "for year in range(2020,2021):\n",
    "    for month in range(6,13):\n",
    "        for day in range(27,31):\n",
    "            try:\n",
    "                df = df.append(getdatafuture(f'{year}{month+1:02d}{day}'))\n",
    "            except:\n",
    "                pass"
   ]
  },
  {
   "cell_type": "markdown",
   "metadata": {},
   "source": [
    "## Get HSI 30secs bar inside and outside RTH"
   ]
  },
  {
   "cell_type": "code",
   "execution_count": 6,
   "metadata": {},
   "outputs": [
    {
     "name": "stderr",
     "output_type": "stream",
     "text": [
      "Error 1100, reqId -1: Connectivity between IB and Trader Workstation has been lost.\n"
     ]
    }
   ],
   "source": [
    "def getdatesfuture(date):\n",
    "    # get list of dates \n",
    "    from datetime import timedelta, datetime\n",
    "    todate = datetime.strptime(date, '%Y%m%d')\n",
    "    delta = timedelta(days=35)    \n",
    "    list_of_dates = []\n",
    "\n",
    "    for i in range(delta.days + 1):\n",
    "        day = todate - delta + timedelta(days=i)\n",
    "        list_of_dates.append(day.strftime(\"%Y%m%d\"))\n",
    "\n",
    "    return list_of_dates\n",
    "\n",
    "\n",
    "def getdatafuture(date):\n",
    "    # get traded price of future\n",
    "    import pandas as pd\n",
    "\n",
    "    contract = Future('HSI', date, 'HKFE', includeExpired=True)\n",
    "\n",
    "    df = pd.DataFrame()\n",
    "\n",
    "    list_of_dates = getdatesfuture(date)\n",
    "\n",
    "    for i in list_of_dates:\n",
    "\n",
    "        bars = ib.reqHistoricalData(contract, endDateTime=f'{i} 16:30:00', durationStr='1 D', barSizeSetting='30 secs', whatToShow='TRADES', useRTH=False)\n",
    "        temp = util.df(bars)\n",
    "        temp = temp[['open', 'high', 'low', 'close', 'volume', 'average', 'barCount']]\n",
    "        \n",
    "        try:\n",
    "            check = df.iloc[-1].equals(temp.iloc[-1])\n",
    "        except:\n",
    "            check = False\n",
    "\n",
    "        if not check:\n",
    "            df = pd.concat([df, temp])\n",
    "            print(i)\n",
    "                \n",
    "    return(df)\n",
    "\n",
    "#Get recent 2 years data\n",
    "import pandas as pd\n",
    "import time\n",
    "df = pd.DataFrame()\n",
    "\n",
    "for year in range(2019,2021):\n",
    "    for month in range(1,13):\n",
    "        for day in range(25,31):\n",
    "            try:\n",
    "                df = df.append(getdatafuture(f'{year}{month+1:02d}{day}'))\n",
    "            except:\n",
    "                pass"
   ]
  }
 ],
 "metadata": {
  "kernelspec": {
   "display_name": "Python 3",
   "language": "python",
   "name": "python3"
  },
  "language_info": {
   "codemirror_mode": {
    "name": "ipython",
    "version": 3
   },
   "file_extension": ".py",
   "mimetype": "text/x-python",
   "name": "python",
   "nbconvert_exporter": "python",
   "pygments_lexer": "ipython3",
   "version": "3.8.5"
  }
 },
 "nbformat": 4,
 "nbformat_minor": 4
}
